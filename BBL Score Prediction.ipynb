{
 "cells": [
  {
   "cell_type": "code",
   "execution_count": null,
   "metadata": {
    "id": "onmsxGty0pTa"
   },
   "outputs": [],
   "source": [
    "import pandas as pd\n",
    "import numpy as np\n",
    "import matplotlib.pyplot as plt\n",
    "import seaborn as sns\n",
    "from sklearn import preprocessing\n",
    "import keras\n",
    "import tensorflow as tf"
   ]
  },
  {
   "cell_type": "code",
   "execution_count": null,
   "metadata": {
    "colab": {
     "base_uri": "https://localhost:8080/"
    },
    "id": "4rpkAfZc0-b-",
    "outputId": "8e535b99-6109-47bb-8da2-8043cc9b39d3"
   },
   "outputs": [],
   "source": [
    "bbl_matches = pd.read_csv(\"BBL Matches 2011-2019.csv\")\n",
    "print(\"\\nBBL Matches:\")\n",
    "print(bbl_matches.head())\n",
    "\n",
    "# Read BBL ball-by-ball data\n",
    "bbl_deliveries = pd.read_csv(\"BBL Ball-by-Ball 2011-2019.csv\")\n",
    "print(\"\\nBBL Deliveries:\")\n",
    "print(bbl_deliveries.head())"
   ]
  },
  {
   "cell_type": "code",
   "execution_count": null,
   "metadata": {
    "colab": {
     "base_uri": "https://localhost:8080/"
    },
    "id": "p4s8H_PX2xUZ",
    "outputId": "6ecfcab3-4cbe-4a93-eef2-905076ee5ef2"
   },
   "outputs": [],
   "source": [
    "print(bbl_matches.columns)\n"
   ]
  },
  {
   "cell_type": "code",
   "execution_count": null,
   "metadata": {
    "colab": {
     "base_uri": "https://localhost:8080/"
    },
    "id": "eBe1z2y23vVG",
    "outputId": "0d0434aa-2119-48a5-f88e-40b7a00e4484"
   },
   "outputs": [],
   "source": [
    "print(bbl_deliveries.columns)\n"
   ]
  },
  {
   "cell_type": "code",
   "execution_count": null,
   "metadata": {
    "colab": {
     "base_uri": "https://localhost:8080/",
     "height": 591
    },
    "id": "3bRUiVzD2xX7",
    "outputId": "5f7db2a2-720f-47d5-a501-71ba818edda5"
   },
   "outputs": [],
   "source": [
    "data = bbl_matches.copy()\n",
    "\n",
    "# Get unique match ID and venue\n",
    "matches_per_venue = data[['id', 'venue']].drop_duplicates()\n",
    "\n",
    "# Count number of matches per venue\n",
    "matches_count = matches_per_venue['venue'].value_counts()\n",
    "\n",
    "# Plot\n",
    "plt.figure(figsize=(12,6))\n",
    "sns.barplot(x=matches_count.values, y=matches_count.index, palette=\"rainbow\")\n",
    "plt.title('Number of Matches per Venue - Big Bash League')\n",
    "plt.xlabel('Number of Matches')\n",
    "plt.ylabel('Venue')\n",
    "plt.tight_layout()\n",
    "plt.show()\n"
   ]
  },
  {
   "cell_type": "code",
   "execution_count": null,
   "metadata": {
    "colab": {
     "base_uri": "https://localhost:8080/",
     "height": 685
    },
    "id": "4jCXrm2M2xaa",
    "outputId": "785547e6-605b-42bb-f0ad-817cf1337c35"
   },
   "outputs": [],
   "source": [
    "# Use the BBL ball-by-ball data\n",
    "data = bbl_deliveries.copy()\n",
    "\n",
    "# Group by batsman and sum runs\n",
    "runs_by_batsman = data.groupby('batsman')['batsman_runs'].sum().sort_values(ascending=False).head(10)\n",
    "\n",
    "# Plotting\n",
    "plt.figure(figsize=(10,6))\n",
    "sns.barplot(x=runs_by_batsman.values, y=runs_by_batsman.index, palette=\"pastel\")\n",
    "plt.title('Top 10 Batsmen by Total Runs - Big Bash League')\n",
    "plt.xlabel('Total Runs')\n",
    "plt.ylabel('Batsman')\n",
    "plt.tight_layout()\n",
    "plt.show()\n"
   ]
  },
  {
   "cell_type": "code",
   "execution_count": null,
   "metadata": {
    "colab": {
     "base_uri": "https://localhost:8080/",
     "height": 590
    },
    "id": "FCVatP_B2xdb",
    "outputId": "412066d1-dfdd-480c-807d-2a038c1ce21c"
   },
   "outputs": [],
   "source": [
    "# Filter deliveries where a wicket was taken\n",
    "wickets = bbl_deliveries[bbl_deliveries['player_dismissed'].notna()]\n",
    "\n",
    "# Count wickets per bowler and get top 10\n",
    "top_bowlers = wickets['bowler'].value_counts().head(10)\n",
    "\n",
    "# Plot\n",
    "plt.figure(figsize=(12,6))\n",
    "sns.barplot(x=top_bowlers.values, y=top_bowlers.index, palette=\"muted\")\n",
    "plt.title('Top 10 Bowlers by Wickets Taken - Big Bash League')\n",
    "plt.xlabel('Total Wickets')\n",
    "plt.ylabel('Bowler')\n",
    "plt.tight_layout()\n",
    "plt.show()\n"
   ]
  },
  {
   "cell_type": "code",
   "execution_count": null,
   "metadata": {
    "id": "HGI1JfHC3vKO"
   },
   "outputs": [],
   "source": [
    "from sklearn.preprocessing import LabelEncoder\n",
    "import pandas as pd\n",
    "\n",
    "# Step 1: Merge venue from bbl_matches\n",
    "bbl_merged = pd.merge(bbl_deliveries, bbl_matches[['id', 'venue']], on='id', how='left')\n",
    "\n",
    "# Step 2: Define categorical columns\n",
    "cat_cols = ['batting_team', 'bowling_team', 'venue', 'batsman', 'bowler']\n",
    "\n",
    "# Step 3: Label encode\n",
    "data_encoded = bbl_merged.copy()\n",
    "label_encoders = {}\n",
    "\n",
    "for col in cat_cols:\n",
    "    le = LabelEncoder()\n",
    "    data_encoded[col] = le.fit_transform(data_encoded[col])\n",
    "    label_encoders[col] = le\n"
   ]
  },
  {
   "cell_type": "code",
   "execution_count": null,
   "metadata": {
    "colab": {
     "base_uri": "https://localhost:8080/",
     "height": 605
    },
    "id": "F2QS89ZH3vaF",
    "outputId": "c746e65f-a010-407c-d160-4590756279f8"
   },
   "outputs": [],
   "source": [
    "# Keep only numeric columns\n",
    "data_corr = data_encoded.select_dtypes(include=['int64', 'float64'])\n",
    "\n",
    "# Plot heatmap\n",
    "plt.figure(figsize=(14, 8))\n",
    "sns.heatmap(data_corr.corr(), annot=True, fmt=\".2f\", cmap='coolwarm')\n",
    "plt.title('Correlation Heatmap - BBL Data (Numeric Features Only)')\n",
    "plt.tight_layout()\n",
    "plt.show()\n"
   ]
  },
  {
   "cell_type": "code",
   "execution_count": null,
   "metadata": {
    "id": "qMUrSh5m5YZY"
   },
   "outputs": [],
   "source": [
    "# Create missing columns first\n",
    "data_encoded['runs'] = data_encoded['batsman_runs'] + data_encoded['extra_runs']\n",
    "data_encoded['wickets'] = data_encoded['player_dismissed'].notnull().astype(int)\n",
    "data_encoded['overs'] = data_encoded['over'] + 1  # Optional: 1-based over count\n",
    "\n",
    "# Now define features and target\n",
    "feature_cols = ['batting_team', 'bowling_team', 'venue', 'cum_runs', 'cum_wickets', 'overs', ]\n",
    "X = model_data[feature_cols]\n",
    "y = model_data['final_score']\n",
    "\n",
    "# Train-test split\n",
    "from sklearn.model_selection import train_test_split\n",
    "X_train, X_test, y_train, y_test = train_test_split(X, y, test_size=0.3, random_state=42)\n"
   ]
  },
  {
   "cell_type": "code",
   "execution_count": null,
   "metadata": {
    "id": "zaLvYSTX5YjL"
   },
   "outputs": [],
   "source": [
    "# Performing Feature Scaling\n",
    "from sklearn.preprocessing import MinMaxScaler\n",
    "\n",
    "scaler = MinMaxScaler()\n",
    "X_train_scaled = scaler.fit_transform(X_train)\n",
    "X_test_scaled = scaler.transform(X_test)\n"
   ]
  },
  {
   "cell_type": "code",
   "execution_count": null,
   "metadata": {
    "id": "p9WYsq5W5Yqs"
   },
   "outputs": [],
   "source": [
    "# Build the model\n",
    "model = keras.Sequential([\n",
    "    keras.layers.Input(shape=(X_train_scaled.shape[1],)),\n",
    "    keras.layers.Dense(512, activation='relu'),\n",
    "    keras.layers.Dense(216, activation='relu'),\n",
    "    keras.layers.Dense(1, activation='linear')  # Output: continuous value (e.g. total score)\n",
    "])\n",
    "\n",
    "# Robusting to outliers using huber\n",
    "huber_loss = tf.keras.losses.Huber(delta=1.0)\n",
    "\n",
    "# Compile the model\n",
    "model.compile(optimizer='adam', loss=huber_loss)\n"
   ]
  },
  {
   "cell_type": "code",
   "execution_count": null,
   "metadata": {
    "colab": {
     "base_uri": "https://localhost:8080/"
    },
    "id": "ZjvBXB1g8VkM",
    "outputId": "81b0441e-e729-4f89-82b1-7b27810b1933"
   },
   "outputs": [],
   "source": [
    "# Traning the model\n",
    "model.fit(X_train_scaled, y_train, epochs=30, batch_size=64, validation_data=(X_test_scaled, y_test))"
   ]
  },
  {
   "cell_type": "code",
   "execution_count": null,
   "metadata": {
    "colab": {
     "base_uri": "https://localhost:8080/"
    },
    "id": "RR6ddoA09igc",
    "outputId": "2775d332-1554-4061-8f95-441ee7a41643"
   },
   "outputs": [],
   "source": [
    "# Final Validation loss\n",
    "model.evaluate(X_test_scaled, y_test)"
   ]
  },
  {
   "cell_type": "code",
   "execution_count": null,
   "metadata": {
    "colab": {
     "base_uri": "https://localhost:8080/"
    },
    "id": "LOWGB-u0-CGa",
    "outputId": "bd659543-0193-4e01-dea9-ba26786adb49"
   },
   "outputs": [],
   "source": [
    "# Generate predictions and evaluate the model using MAE and MSE\n",
    "\n",
    "from sklearn.metrics import mean_absolute_error, mean_squared_error\n",
    "\n",
    "pred = model.predict(X_test_scaled).flatten()\n",
    "\n",
    "print(\"MAE:\", mean_absolute_error(y_test, pred))\n",
    "print(\"MSE:\", mean_squared_error(y_test, pred))\n"
   ]
  },
  {
   "cell_type": "code",
   "execution_count": null,
   "metadata": {
    "id": "OUOlZxq3siIj"
   },
   "outputs": [],
   "source": [
    "# Step 1: Group by match, inning, over\n",
    "over_data = data_encoded.groupby(['id', 'inning', 'over']).agg({\n",
    "    'batting_team': 'first',\n",
    "    'bowling_team': 'first',\n",
    "    'venue': 'first',\n",
    "    'batsman': 'first',\n",
    "    'bowler': 'first',\n",
    "    'total_runs': 'sum',\n",
    "    'player_dismissed': lambda x: x.notnull().sum()\n",
    "}).reset_index()\n",
    "\n",
    "# Step 2: Cumulative features\n",
    "over_data['cum_runs'] = over_data.groupby(['id', 'inning'])['total_runs'].cumsum()\n",
    "over_data['cum_wickets'] = over_data.groupby(['id', 'inning'])['player_dismissed'].cumsum()\n",
    "over_data['overs'] = over_data['over'] + 1\n",
    "\n",
    "# Step 3: Add final innings total as label\n",
    "final_score = over_data.groupby(['id', 'inning'])['cum_runs'].max().reset_index()\n",
    "final_score.rename(columns={'cum_runs': 'final_score'}, inplace=True)\n",
    "\n",
    "# Step 4: Merge label\n",
    "model_data = pd.merge(over_data, final_score, on=['id', 'inning'])\n"
   ]
  },
  {
   "cell_type": "code",
   "execution_count": null,
   "metadata": {
    "colab": {
     "base_uri": "https://localhost:8080/",
     "height": 283,
     "referenced_widgets": [
      "066a24b979a14ae1822112241d2023d0",
      "64df4b079d974846ab5a39763d771e6c",
      "43fabbc02cc747d7953e7a639eeceae9",
      "2e02a4bc38ca42aca25aff8915973ddb",
      "d6bf0928c19f44afbf4ee5ccc62a7dc2",
      "c2ea79305c94415c99acbb00b42071c8",
      "97717b4bc8764679b5ef2628943c4ac9",
      "3010884136d04535a2e437a26d7c06f6",
      "ab5f060cdc5643dcb0ad7a80ba438594",
      "997ecc0649b94f8fbc68eea912326336",
      "68d7006e4eea4c03b1df6d38ae3cd3c5",
      "8d2c265ea5ab42b7bea7622dae95173a",
      "d1db56088f6e41b09fc1509011c9ead8",
      "399b031130ca48bb893d437179617af6",
      "a0b3c17b6e97485b8deb8d78cde97439",
      "688445b3d2474f86bccd407f1e136e64",
      "081f91442b484d04aa9fd13c7777914c",
      "4ce08619e3ef471fbd3652d199329f1b",
      "f359db3df4cb4317950c59f4f3fd8250",
      "b1e2389178b5473da49f7ac3acbbbaed",
      "4b1b2b56c1164e3ab9bcd00cdbfadd56",
      "0beab393580f4c239e798d24e8019130",
      "272cb1d3593441ac9a1d8bff2e13e810"
     ]
    },
    "id": "t5H-kcNtFPG_",
    "outputId": "8ae83899-31f3-446c-c7c3-ef038029e657"
   },
   "outputs": [],
   "source": [
    "import ipywidgets as widgets\n",
    "from IPython.display import display, clear_output\n",
    "import warnings\n",
    "import numpy as np\n",
    "warnings.filterwarnings(\"ignore\")\n",
    "\n",
    "# Dropdowns using BBL label encoders\n",
    "venue = widgets.Dropdown(options=list(label_encoders['venue'].classes_), description='Select Venue:')\n",
    "venue.style = {'description_width': 'initial'}\n",
    "\n",
    "batting_team = widgets.Dropdown(options=list(label_encoders['batting_team'].classes_), description='Select Batting Team:')\n",
    "batting_team.style = {'description_width': 'initial'}\n",
    "\n",
    "bowling_team = widgets.Dropdown(options=list(label_encoders['bowling_team'].classes_), description='Select Bowling Team:')\n",
    "bowling_team.style = {'description_width': 'initial'}\n",
    "\n",
    "# Numeric inputs\n",
    "runs = widgets.IntText(value=0, description='Runs:', style={'description_width': 'initial'})\n",
    "wickets = widgets.IntText(value=0, description='Wickets:', style={'description_width': 'initial'})\n",
    "overs = widgets.FloatText(value=0.0, description='Overs:', style={'description_width': 'initial'})\n",
    "\n",
    "# Predict button\n",
    "predict_button = widgets.Button(description=\"Predict Score\")\n",
    "output = widgets.Output()\n",
    "\n",
    "# Prediction logic\n",
    "def predict_score(b):\n",
    "    with output:\n",
    "        clear_output()\n",
    "\n",
    "        encoded_venue = label_encoders['venue'].transform([venue.value])[0]\n",
    "        encoded_batting_team = label_encoders['batting_team'].transform([batting_team.value])[0]\n",
    "        encoded_bowling_team = label_encoders['bowling_team'].transform([bowling_team.value])[0]\n",
    "\n",
    "        input_features = [\n",
    "            encoded_batting_team,\n",
    "            encoded_bowling_team,\n",
    "            encoded_venue,\n",
    "            runs.value,\n",
    "            wickets.value,\n",
    "            overs.value\n",
    "        ]\n",
    "\n",
    "        input_array = np.array(input_features).reshape(1, -1)\n",
    "        input_array = scaler.transform(input_array)  # Assumes scaler is defined\n",
    "        predicted_score = model.predict(input_array)\n",
    "\n",
    "        print(f\"Predicted Total Runs: {int(predicted_score[0])}\")\n",
    "\n",
    "predict_button.on_click(predict_score)\n",
    "\n",
    "# Display the widget interface\n",
    "display(\n",
    "    venue, batting_team, bowling_team,\n",
    "    runs, wickets, overs,\n",
    "    predict_button, output\n",
    ")\n"
   ]
  }
 ],
 "metadata": {
  "colab": {
   "provenance": []
  },
  "kernelspec": {
   "display_name": "Python 3",
   "name": "python3"
  },
  "language_info": {
   "name": "python"
  },
  "widgets": {
   "application/vnd.jupyter.widget-state+json": {
    "066a24b979a14ae1822112241d2023d0": {
     "model_module": "@jupyter-widgets/controls",
     "model_module_version": "1.5.0",
     "model_name": "DropdownModel",
     "state": {
      "_dom_classes": [],
      "_model_module": "@jupyter-widgets/controls",
      "_model_module_version": "1.5.0",
      "_model_name": "DropdownModel",
      "_options_labels": [
       "Adelaide Oval",
       "Aurora Stadium",
       "Bellerive Oval",
       "Brisbane Cricket Ground, Woolloongabba",
       "Carrara Oval",
       "Docklands Stadium",
       "Geelong Cricket Ground",
       "International Sports Stadium",
       "Manuka Oval",
       "Melbourne Cricket Ground",
       "Perth Stadium",
       "Simonds Stadium, South Geelong, Victoria",
       "Stadium Australia",
       "Sydney Cricket Ground",
       "Sydney Showground Stadium",
       "Ted Summerton Reserve",
       "Traeger Park",
       "W.A.C.A. Ground",
       "Western Australia Cricket Association Ground"
      ],
      "_view_count": null,
      "_view_module": "@jupyter-widgets/controls",
      "_view_module_version": "1.5.0",
      "_view_name": "DropdownView",
      "description": "Select Venue:",
      "description_tooltip": null,
      "disabled": false,
      "index": 0,
      "layout": "IPY_MODEL_64df4b079d974846ab5a39763d771e6c",
      "style": "IPY_MODEL_43fabbc02cc747d7953e7a639eeceae9"
     }
    },
    "081f91442b484d04aa9fd13c7777914c": {
     "model_module": "@jupyter-widgets/base",
     "model_module_version": "1.2.0",
     "model_name": "LayoutModel",
     "state": {
      "_model_module": "@jupyter-widgets/base",
      "_model_module_version": "1.2.0",
      "_model_name": "LayoutModel",
      "_view_count": null,
      "_view_module": "@jupyter-widgets/base",
      "_view_module_version": "1.2.0",
      "_view_name": "LayoutView",
      "align_content": null,
      "align_items": null,
      "align_self": null,
      "border": null,
      "bottom": null,
      "display": null,
      "flex": null,
      "flex_flow": null,
      "grid_area": null,
      "grid_auto_columns": null,
      "grid_auto_flow": null,
      "grid_auto_rows": null,
      "grid_column": null,
      "grid_gap": null,
      "grid_row": null,
      "grid_template_areas": null,
      "grid_template_columns": null,
      "grid_template_rows": null,
      "height": null,
      "justify_content": null,
      "justify_items": null,
      "left": null,
      "margin": null,
      "max_height": null,
      "max_width": null,
      "min_height": null,
      "min_width": null,
      "object_fit": null,
      "object_position": null,
      "order": null,
      "overflow": null,
      "overflow_x": null,
      "overflow_y": null,
      "padding": null,
      "right": null,
      "top": null,
      "visibility": null,
      "width": null
     }
    },
    "0beab393580f4c239e798d24e8019130": {
     "model_module": "@jupyter-widgets/output",
     "model_module_version": "1.0.0",
     "model_name": "OutputModel",
     "state": {
      "_dom_classes": [],
      "_model_module": "@jupyter-widgets/output",
      "_model_module_version": "1.0.0",
      "_model_name": "OutputModel",
      "_view_count": null,
      "_view_module": "@jupyter-widgets/output",
      "_view_module_version": "1.0.0",
      "_view_name": "OutputView",
      "layout": "IPY_MODEL_272cb1d3593441ac9a1d8bff2e13e810",
      "msg_id": "",
      "outputs": [
       {
        "name": "stdout",
        "output_type": "stream",
        "text": [
         "\r\u001b[1m1/1\u001b[0m \u001b[32m━━━━━━━━━━━━━━━━━━━━\u001b[0m\u001b[37m\u001b[0m \u001b[1m0s\u001b[0m 20ms/step"
        ]
       },
       {
        "name": "stdout",
        "output_type": "stream",
        "text": [
         "\b\b\b\b\b\b\b\b\b\b\b\b\b\b\b\b\b\b\b\b\b\b\b\b\b\b\b\b\b\b\b\b\b\b\b\b\b\r\u001b[1m1/1\u001b[0m \u001b[32m━━━━━━━━━━━━━━━━━━━━\u001b[0m\u001b[37m\u001b[0m \u001b[1m0s\u001b[0m 39ms/step\n"
        ]
       },
       {
        "name": "stdout",
        "output_type": "stream",
        "text": [
         "Predicted Total Runs: 224\n"
        ]
       }
      ]
     }
    },
    "272cb1d3593441ac9a1d8bff2e13e810": {
     "model_module": "@jupyter-widgets/base",
     "model_module_version": "1.2.0",
     "model_name": "LayoutModel",
     "state": {
      "_model_module": "@jupyter-widgets/base",
      "_model_module_version": "1.2.0",
      "_model_name": "LayoutModel",
      "_view_count": null,
      "_view_module": "@jupyter-widgets/base",
      "_view_module_version": "1.2.0",
      "_view_name": "LayoutView",
      "align_content": null,
      "align_items": null,
      "align_self": null,
      "border": null,
      "bottom": null,
      "display": null,
      "flex": null,
      "flex_flow": null,
      "grid_area": null,
      "grid_auto_columns": null,
      "grid_auto_flow": null,
      "grid_auto_rows": null,
      "grid_column": null,
      "grid_gap": null,
      "grid_row": null,
      "grid_template_areas": null,
      "grid_template_columns": null,
      "grid_template_rows": null,
      "height": null,
      "justify_content": null,
      "justify_items": null,
      "left": null,
      "margin": null,
      "max_height": null,
      "max_width": null,
      "min_height": null,
      "min_width": null,
      "object_fit": null,
      "object_position": null,
      "order": null,
      "overflow": null,
      "overflow_x": null,
      "overflow_y": null,
      "padding": null,
      "right": null,
      "top": null,
      "visibility": null,
      "width": null
     }
    },
    "2e02a4bc38ca42aca25aff8915973ddb": {
     "model_module": "@jupyter-widgets/controls",
     "model_module_version": "1.5.0",
     "model_name": "DropdownModel",
     "state": {
      "_dom_classes": [],
      "_model_module": "@jupyter-widgets/controls",
      "_model_module_version": "1.5.0",
      "_model_name": "DropdownModel",
      "_options_labels": [
       "Adelaide Strikers",
       "Brisbane Heat",
       "Hobart Hurricanes",
       "Melbourne Renegades",
       "Melbourne Stars",
       "Perth Scorchers",
       "Sydney Sixers",
       "Sydney Thunder"
      ],
      "_view_count": null,
      "_view_module": "@jupyter-widgets/controls",
      "_view_module_version": "1.5.0",
      "_view_name": "DropdownView",
      "description": "Select Batting Team:",
      "description_tooltip": null,
      "disabled": false,
      "index": 0,
      "layout": "IPY_MODEL_d6bf0928c19f44afbf4ee5ccc62a7dc2",
      "style": "IPY_MODEL_c2ea79305c94415c99acbb00b42071c8"
     }
    },
    "3010884136d04535a2e437a26d7c06f6": {
     "model_module": "@jupyter-widgets/base",
     "model_module_version": "1.2.0",
     "model_name": "LayoutModel",
     "state": {
      "_model_module": "@jupyter-widgets/base",
      "_model_module_version": "1.2.0",
      "_model_name": "LayoutModel",
      "_view_count": null,
      "_view_module": "@jupyter-widgets/base",
      "_view_module_version": "1.2.0",
      "_view_name": "LayoutView",
      "align_content": null,
      "align_items": null,
      "align_self": null,
      "border": null,
      "bottom": null,
      "display": null,
      "flex": null,
      "flex_flow": null,
      "grid_area": null,
      "grid_auto_columns": null,
      "grid_auto_flow": null,
      "grid_auto_rows": null,
      "grid_column": null,
      "grid_gap": null,
      "grid_row": null,
      "grid_template_areas": null,
      "grid_template_columns": null,
      "grid_template_rows": null,
      "height": null,
      "justify_content": null,
      "justify_items": null,
      "left": null,
      "margin": null,
      "max_height": null,
      "max_width": null,
      "min_height": null,
      "min_width": null,
      "object_fit": null,
      "object_position": null,
      "order": null,
      "overflow": null,
      "overflow_x": null,
      "overflow_y": null,
      "padding": null,
      "right": null,
      "top": null,
      "visibility": null,
      "width": null
     }
    },
    "399b031130ca48bb893d437179617af6": {
     "model_module": "@jupyter-widgets/base",
     "model_module_version": "1.2.0",
     "model_name": "LayoutModel",
     "state": {
      "_model_module": "@jupyter-widgets/base",
      "_model_module_version": "1.2.0",
      "_model_name": "LayoutModel",
      "_view_count": null,
      "_view_module": "@jupyter-widgets/base",
      "_view_module_version": "1.2.0",
      "_view_name": "LayoutView",
      "align_content": null,
      "align_items": null,
      "align_self": null,
      "border": null,
      "bottom": null,
      "display": null,
      "flex": null,
      "flex_flow": null,
      "grid_area": null,
      "grid_auto_columns": null,
      "grid_auto_flow": null,
      "grid_auto_rows": null,
      "grid_column": null,
      "grid_gap": null,
      "grid_row": null,
      "grid_template_areas": null,
      "grid_template_columns": null,
      "grid_template_rows": null,
      "height": null,
      "justify_content": null,
      "justify_items": null,
      "left": null,
      "margin": null,
      "max_height": null,
      "max_width": null,
      "min_height": null,
      "min_width": null,
      "object_fit": null,
      "object_position": null,
      "order": null,
      "overflow": null,
      "overflow_x": null,
      "overflow_y": null,
      "padding": null,
      "right": null,
      "top": null,
      "visibility": null,
      "width": null
     }
    },
    "43fabbc02cc747d7953e7a639eeceae9": {
     "model_module": "@jupyter-widgets/controls",
     "model_module_version": "1.5.0",
     "model_name": "DescriptionStyleModel",
     "state": {
      "_model_module": "@jupyter-widgets/controls",
      "_model_module_version": "1.5.0",
      "_model_name": "DescriptionStyleModel",
      "_view_count": null,
      "_view_module": "@jupyter-widgets/base",
      "_view_module_version": "1.2.0",
      "_view_name": "StyleView",
      "description_width": "initial"
     }
    },
    "4b1b2b56c1164e3ab9bcd00cdbfadd56": {
     "model_module": "@jupyter-widgets/controls",
     "model_module_version": "1.5.0",
     "model_name": "ButtonStyleModel",
     "state": {
      "_model_module": "@jupyter-widgets/controls",
      "_model_module_version": "1.5.0",
      "_model_name": "ButtonStyleModel",
      "_view_count": null,
      "_view_module": "@jupyter-widgets/base",
      "_view_module_version": "1.2.0",
      "_view_name": "StyleView",
      "button_color": null,
      "font_weight": ""
     }
    },
    "4ce08619e3ef471fbd3652d199329f1b": {
     "model_module": "@jupyter-widgets/controls",
     "model_module_version": "1.5.0",
     "model_name": "DescriptionStyleModel",
     "state": {
      "_model_module": "@jupyter-widgets/controls",
      "_model_module_version": "1.5.0",
      "_model_name": "DescriptionStyleModel",
      "_view_count": null,
      "_view_module": "@jupyter-widgets/base",
      "_view_module_version": "1.2.0",
      "_view_name": "StyleView",
      "description_width": "initial"
     }
    },
    "64df4b079d974846ab5a39763d771e6c": {
     "model_module": "@jupyter-widgets/base",
     "model_module_version": "1.2.0",
     "model_name": "LayoutModel",
     "state": {
      "_model_module": "@jupyter-widgets/base",
      "_model_module_version": "1.2.0",
      "_model_name": "LayoutModel",
      "_view_count": null,
      "_view_module": "@jupyter-widgets/base",
      "_view_module_version": "1.2.0",
      "_view_name": "LayoutView",
      "align_content": null,
      "align_items": null,
      "align_self": null,
      "border": null,
      "bottom": null,
      "display": null,
      "flex": null,
      "flex_flow": null,
      "grid_area": null,
      "grid_auto_columns": null,
      "grid_auto_flow": null,
      "grid_auto_rows": null,
      "grid_column": null,
      "grid_gap": null,
      "grid_row": null,
      "grid_template_areas": null,
      "grid_template_columns": null,
      "grid_template_rows": null,
      "height": null,
      "justify_content": null,
      "justify_items": null,
      "left": null,
      "margin": null,
      "max_height": null,
      "max_width": null,
      "min_height": null,
      "min_width": null,
      "object_fit": null,
      "object_position": null,
      "order": null,
      "overflow": null,
      "overflow_x": null,
      "overflow_y": null,
      "padding": null,
      "right": null,
      "top": null,
      "visibility": null,
      "width": null
     }
    },
    "688445b3d2474f86bccd407f1e136e64": {
     "model_module": "@jupyter-widgets/controls",
     "model_module_version": "1.5.0",
     "model_name": "FloatTextModel",
     "state": {
      "_dom_classes": [],
      "_model_module": "@jupyter-widgets/controls",
      "_model_module_version": "1.5.0",
      "_model_name": "FloatTextModel",
      "_view_count": null,
      "_view_module": "@jupyter-widgets/controls",
      "_view_module_version": "1.5.0",
      "_view_name": "FloatTextView",
      "continuous_update": false,
      "description": "Overs:",
      "description_tooltip": null,
      "disabled": false,
      "layout": "IPY_MODEL_081f91442b484d04aa9fd13c7777914c",
      "step": null,
      "style": "IPY_MODEL_4ce08619e3ef471fbd3652d199329f1b",
      "value": 10
     }
    },
    "68d7006e4eea4c03b1df6d38ae3cd3c5": {
     "model_module": "@jupyter-widgets/base",
     "model_module_version": "1.2.0",
     "model_name": "LayoutModel",
     "state": {
      "_model_module": "@jupyter-widgets/base",
      "_model_module_version": "1.2.0",
      "_model_name": "LayoutModel",
      "_view_count": null,
      "_view_module": "@jupyter-widgets/base",
      "_view_module_version": "1.2.0",
      "_view_name": "LayoutView",
      "align_content": null,
      "align_items": null,
      "align_self": null,
      "border": null,
      "bottom": null,
      "display": null,
      "flex": null,
      "flex_flow": null,
      "grid_area": null,
      "grid_auto_columns": null,
      "grid_auto_flow": null,
      "grid_auto_rows": null,
      "grid_column": null,
      "grid_gap": null,
      "grid_row": null,
      "grid_template_areas": null,
      "grid_template_columns": null,
      "grid_template_rows": null,
      "height": null,
      "justify_content": null,
      "justify_items": null,
      "left": null,
      "margin": null,
      "max_height": null,
      "max_width": null,
      "min_height": null,
      "min_width": null,
      "object_fit": null,
      "object_position": null,
      "order": null,
      "overflow": null,
      "overflow_x": null,
      "overflow_y": null,
      "padding": null,
      "right": null,
      "top": null,
      "visibility": null,
      "width": null
     }
    },
    "8d2c265ea5ab42b7bea7622dae95173a": {
     "model_module": "@jupyter-widgets/controls",
     "model_module_version": "1.5.0",
     "model_name": "DescriptionStyleModel",
     "state": {
      "_model_module": "@jupyter-widgets/controls",
      "_model_module_version": "1.5.0",
      "_model_name": "DescriptionStyleModel",
      "_view_count": null,
      "_view_module": "@jupyter-widgets/base",
      "_view_module_version": "1.2.0",
      "_view_name": "StyleView",
      "description_width": "initial"
     }
    },
    "97717b4bc8764679b5ef2628943c4ac9": {
     "model_module": "@jupyter-widgets/controls",
     "model_module_version": "1.5.0",
     "model_name": "DropdownModel",
     "state": {
      "_dom_classes": [],
      "_model_module": "@jupyter-widgets/controls",
      "_model_module_version": "1.5.0",
      "_model_name": "DropdownModel",
      "_options_labels": [
       "Adelaide Strikers",
       "Brisbane Heat",
       "Hobart Hurricanes",
       "Melbourne Renegades",
       "Melbourne Stars",
       "Perth Scorchers",
       "Sydney Sixers",
       "Sydney Thunder",
       "nan"
      ],
      "_view_count": null,
      "_view_module": "@jupyter-widgets/controls",
      "_view_module_version": "1.5.0",
      "_view_name": "DropdownView",
      "description": "Select Bowling Team:",
      "description_tooltip": null,
      "disabled": false,
      "index": 1,
      "layout": "IPY_MODEL_3010884136d04535a2e437a26d7c06f6",
      "style": "IPY_MODEL_ab5f060cdc5643dcb0ad7a80ba438594"
     }
    },
    "997ecc0649b94f8fbc68eea912326336": {
     "model_module": "@jupyter-widgets/controls",
     "model_module_version": "1.5.0",
     "model_name": "IntTextModel",
     "state": {
      "_dom_classes": [],
      "_model_module": "@jupyter-widgets/controls",
      "_model_module_version": "1.5.0",
      "_model_name": "IntTextModel",
      "_view_count": null,
      "_view_module": "@jupyter-widgets/controls",
      "_view_module_version": "1.5.0",
      "_view_name": "IntTextView",
      "continuous_update": false,
      "description": "Runs:",
      "description_tooltip": null,
      "disabled": false,
      "layout": "IPY_MODEL_68d7006e4eea4c03b1df6d38ae3cd3c5",
      "step": 1,
      "style": "IPY_MODEL_8d2c265ea5ab42b7bea7622dae95173a",
      "value": 140
     }
    },
    "a0b3c17b6e97485b8deb8d78cde97439": {
     "model_module": "@jupyter-widgets/controls",
     "model_module_version": "1.5.0",
     "model_name": "DescriptionStyleModel",
     "state": {
      "_model_module": "@jupyter-widgets/controls",
      "_model_module_version": "1.5.0",
      "_model_name": "DescriptionStyleModel",
      "_view_count": null,
      "_view_module": "@jupyter-widgets/base",
      "_view_module_version": "1.2.0",
      "_view_name": "StyleView",
      "description_width": "initial"
     }
    },
    "ab5f060cdc5643dcb0ad7a80ba438594": {
     "model_module": "@jupyter-widgets/controls",
     "model_module_version": "1.5.0",
     "model_name": "DescriptionStyleModel",
     "state": {
      "_model_module": "@jupyter-widgets/controls",
      "_model_module_version": "1.5.0",
      "_model_name": "DescriptionStyleModel",
      "_view_count": null,
      "_view_module": "@jupyter-widgets/base",
      "_view_module_version": "1.2.0",
      "_view_name": "StyleView",
      "description_width": "initial"
     }
    },
    "b1e2389178b5473da49f7ac3acbbbaed": {
     "model_module": "@jupyter-widgets/base",
     "model_module_version": "1.2.0",
     "model_name": "LayoutModel",
     "state": {
      "_model_module": "@jupyter-widgets/base",
      "_model_module_version": "1.2.0",
      "_model_name": "LayoutModel",
      "_view_count": null,
      "_view_module": "@jupyter-widgets/base",
      "_view_module_version": "1.2.0",
      "_view_name": "LayoutView",
      "align_content": null,
      "align_items": null,
      "align_self": null,
      "border": null,
      "bottom": null,
      "display": null,
      "flex": null,
      "flex_flow": null,
      "grid_area": null,
      "grid_auto_columns": null,
      "grid_auto_flow": null,
      "grid_auto_rows": null,
      "grid_column": null,
      "grid_gap": null,
      "grid_row": null,
      "grid_template_areas": null,
      "grid_template_columns": null,
      "grid_template_rows": null,
      "height": null,
      "justify_content": null,
      "justify_items": null,
      "left": null,
      "margin": null,
      "max_height": null,
      "max_width": null,
      "min_height": null,
      "min_width": null,
      "object_fit": null,
      "object_position": null,
      "order": null,
      "overflow": null,
      "overflow_x": null,
      "overflow_y": null,
      "padding": null,
      "right": null,
      "top": null,
      "visibility": null,
      "width": null
     }
    },
    "c2ea79305c94415c99acbb00b42071c8": {
     "model_module": "@jupyter-widgets/controls",
     "model_module_version": "1.5.0",
     "model_name": "DescriptionStyleModel",
     "state": {
      "_model_module": "@jupyter-widgets/controls",
      "_model_module_version": "1.5.0",
      "_model_name": "DescriptionStyleModel",
      "_view_count": null,
      "_view_module": "@jupyter-widgets/base",
      "_view_module_version": "1.2.0",
      "_view_name": "StyleView",
      "description_width": "initial"
     }
    },
    "d1db56088f6e41b09fc1509011c9ead8": {
     "model_module": "@jupyter-widgets/controls",
     "model_module_version": "1.5.0",
     "model_name": "IntTextModel",
     "state": {
      "_dom_classes": [],
      "_model_module": "@jupyter-widgets/controls",
      "_model_module_version": "1.5.0",
      "_model_name": "IntTextModel",
      "_view_count": null,
      "_view_module": "@jupyter-widgets/controls",
      "_view_module_version": "1.5.0",
      "_view_name": "IntTextView",
      "continuous_update": false,
      "description": "Wickets:",
      "description_tooltip": null,
      "disabled": false,
      "layout": "IPY_MODEL_399b031130ca48bb893d437179617af6",
      "step": 1,
      "style": "IPY_MODEL_a0b3c17b6e97485b8deb8d78cde97439",
      "value": 2
     }
    },
    "d6bf0928c19f44afbf4ee5ccc62a7dc2": {
     "model_module": "@jupyter-widgets/base",
     "model_module_version": "1.2.0",
     "model_name": "LayoutModel",
     "state": {
      "_model_module": "@jupyter-widgets/base",
      "_model_module_version": "1.2.0",
      "_model_name": "LayoutModel",
      "_view_count": null,
      "_view_module": "@jupyter-widgets/base",
      "_view_module_version": "1.2.0",
      "_view_name": "LayoutView",
      "align_content": null,
      "align_items": null,
      "align_self": null,
      "border": null,
      "bottom": null,
      "display": null,
      "flex": null,
      "flex_flow": null,
      "grid_area": null,
      "grid_auto_columns": null,
      "grid_auto_flow": null,
      "grid_auto_rows": null,
      "grid_column": null,
      "grid_gap": null,
      "grid_row": null,
      "grid_template_areas": null,
      "grid_template_columns": null,
      "grid_template_rows": null,
      "height": null,
      "justify_content": null,
      "justify_items": null,
      "left": null,
      "margin": null,
      "max_height": null,
      "max_width": null,
      "min_height": null,
      "min_width": null,
      "object_fit": null,
      "object_position": null,
      "order": null,
      "overflow": null,
      "overflow_x": null,
      "overflow_y": null,
      "padding": null,
      "right": null,
      "top": null,
      "visibility": null,
      "width": null
     }
    },
    "f359db3df4cb4317950c59f4f3fd8250": {
     "model_module": "@jupyter-widgets/controls",
     "model_module_version": "1.5.0",
     "model_name": "ButtonModel",
     "state": {
      "_dom_classes": [],
      "_model_module": "@jupyter-widgets/controls",
      "_model_module_version": "1.5.0",
      "_model_name": "ButtonModel",
      "_view_count": null,
      "_view_module": "@jupyter-widgets/controls",
      "_view_module_version": "1.5.0",
      "_view_name": "ButtonView",
      "button_style": "",
      "description": "Predict Score",
      "disabled": false,
      "icon": "",
      "layout": "IPY_MODEL_b1e2389178b5473da49f7ac3acbbbaed",
      "style": "IPY_MODEL_4b1b2b56c1164e3ab9bcd00cdbfadd56",
      "tooltip": ""
     }
    }
   }
  }
 },
 "nbformat": 4,
 "nbformat_minor": 0
}
